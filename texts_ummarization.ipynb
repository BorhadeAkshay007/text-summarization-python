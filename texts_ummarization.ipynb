{
 "cells": [
  {
   "cell_type": "code",
   "execution_count": 45,
   "metadata": {},
   "outputs": [],
   "source": [
    "### Importing all required liabraries..\n",
    "import spacy\n",
    "from spacy.lang.en.stop_words import STOP_WORDS\n",
    "from string import punctuation"
   ]
  },
  {
   "cell_type": "code",
   "execution_count": 50,
   "metadata": {},
   "outputs": [],
   "source": [
    "### only doing testing on first row of task data..\n",
    "\n",
    "text = '''Acnesol Gel is an antibiotic that fights bacteria. It is used to treat acne, which appears as spots or pimples on your face, chest or back. This medicine works by attacking the bacteria that cause these pimples.Acnesol Gel is only meant for external use and should be used as advised by your doctor. You should normally wash and dry the affected area before applying a thin layer of the medicine. It should not be applied to broken or damaged skin. Avoid any contact with your eyes, nose, or mouth. Rinse it off with water if you accidentally get it in these areas. It may take several weeks for your symptoms to improve, but you should keep using this medicine regularly. Do not stop using it as soon as your acne starts to get better. Ask your doctor when you should stop treatment.Common side effects like minor itching, burning, or redness of the skin and oily skin may be seen in some people. These are usually temporary and resolve on their own. Consult your doctor if they bother you or do not go away.It is a safe medicine, but you should inform your doctor if you have any problems with your bowels (intestines). Also, inform the doctor if you have ever had bloody diarrhea caused by taking antibiotics or if you are using any other medicines to treat skin conditions. Consult your doctor about using this medicine if you are pregnant or breastfeeding.'''"
   ]
  },
  {
   "cell_type": "code",
   "execution_count": 47,
   "metadata": {},
   "outputs": [],
   "source": [
    "stopwords = list(STOP_WORDS)"
   ]
  },
  {
   "cell_type": "code",
   "execution_count": 4,
   "metadata": {},
   "outputs": [],
   "source": [
    "nlp = spacy.load('en_core_web_sm')"
   ]
  },
  {
   "cell_type": "code",
   "execution_count": 5,
   "metadata": {},
   "outputs": [],
   "source": [
    "doc = nlp(text)"
   ]
  },
  {
   "cell_type": "code",
   "execution_count": 54,
   "metadata": {},
   "outputs": [
    {
     "name": "stdout",
     "output_type": "stream",
     "text": [
      "['Acnesol', 'Gel', 'is', 'an', 'antibiotic', 'that', 'fights', 'bacteria', '.', 'It', 'is', 'used', 'to', 'treat', 'acne', ',', 'which', 'appears', 'as', 'spots', 'or', 'pimples', 'on', 'your', 'face', ',', 'chest', 'or', 'back', '.', 'This', 'medicine', 'works', 'by', 'attacking', 'the', 'bacteria', 'that', 'cause', 'these', 'pimples', '.', 'Acnesol', 'Gel', 'is', 'only', 'meant', 'for', 'external', 'use', 'and', 'should', 'be', 'used', 'as', 'advised', 'by', 'your', 'doctor', '.', 'You', 'should', 'normally', 'wash', 'and', 'dry', 'the', 'affected', 'area', 'before', 'applying', 'a', 'thin', 'layer', 'of', 'the', 'medicine', '.', 'It', 'should', 'not', 'be', 'applied', 'to', 'broken', 'or', 'damaged', 'skin', '.', 'Avoid', 'any', 'contact', 'with', 'your', 'eyes', ',', 'nose', ',', 'or', 'mouth', '.', 'Rinse', 'it', 'off', 'with', 'water', 'if', 'you', 'accidentally', 'get', 'it', 'in', 'these', 'areas', '.', 'It', 'may', 'take', 'several', 'weeks', 'for', 'your', 'symptoms', 'to', 'improve', ',', 'but', 'you', 'should', 'keep', 'using', 'this', 'medicine', 'regularly', '.', 'Do', 'not', 'stop', 'using', 'it', 'as', 'soon', 'as', 'your', 'acne', 'starts', 'to', 'get', 'better', '.', 'Ask', 'your', 'doctor', 'when', 'you', 'should', 'stop', 'treatment', '.', 'Common', 'side', 'effects', 'like', 'minor', 'itching', ',', 'burning', ',', 'or', 'redness', 'of', 'the', 'skin', 'and', 'oily', 'skin', 'may', 'be', 'seen', 'in', 'some', 'people', '.', 'These', 'are', 'usually', 'temporary', 'and', 'resolve', 'on', 'their', 'own', '.', 'Consult', 'your', 'doctor', 'if', 'they', 'bother', 'you', 'or', 'do', 'not', 'go', 'away', '.', 'It', 'is', 'a', 'safe', 'medicine', ',', 'but', 'you', 'should', 'inform', 'your', 'doctor', 'if', 'you', 'have', 'any', 'problems', 'with', 'your', 'bowels', '(', 'intestines', ')', '.', 'Also', ',', 'inform', 'the', 'doctor', 'if', 'you', 'have', 'ever', 'had', 'bloody', 'diarrhea', 'caused', 'by', 'taking', 'antibiotics', 'or', 'if', 'you', 'are', 'using', 'any', 'other', 'medicines', 'to', 'treat', 'skin', 'conditions', '.', 'Consult', 'your', 'doctor', 'about', 'using', 'this', 'medicine', 'if', 'you', 'are', 'pregnant', 'or', 'breastfeeding', '.']\n"
     ]
    }
   ],
   "source": [
    "### token genration for words..\n",
    "\n",
    "token = [token.text for token in doc]\n",
    "print(token)"
   ]
  },
  {
   "cell_type": "code",
   "execution_count": 7,
   "metadata": {},
   "outputs": [
    {
     "data": {
      "text/plain": [
       "'!\"#$%&\\'()*+,-./:;<=>?@[\\\\]^_`{|}~\\n'"
      ]
     },
     "execution_count": 7,
     "metadata": {},
     "output_type": "execute_result"
    }
   ],
   "source": [
    "punctuation = punctuation + '\\n'\n",
    "punctuation"
   ]
  },
  {
   "cell_type": "code",
   "execution_count": 51,
   "metadata": {},
   "outputs": [],
   "source": [
    "### finding words frequency/ occurance..\n",
    "word_frequencies = {}\n",
    "for word in doc:\n",
    "    if word.text.lower() not in stopwords:\n",
    "        if word.text.lower() not in punctuation:\n",
    "            if word.text not in word_frequencies.keys():\n",
    "                word_frequencies[word.text] = 1 \n",
    "            else:\n",
    "                word_frequencies[word.text] += 1 \n",
    "            "
   ]
  },
  {
   "cell_type": "code",
   "execution_count": 9,
   "metadata": {},
   "outputs": [
    {
     "name": "stdout",
     "output_type": "stream",
     "text": [
      "{'Acnesol': 2, 'Gel': 2, 'antibiotic': 1, 'fights': 1, 'bacteria': 2, 'treat': 2, 'acne': 2, 'appears': 1, 'spots': 1, 'pimples': 2, 'face': 1, 'chest': 1, 'medicine': 5, 'works': 1, 'attacking': 1, 'cause': 1, 'meant': 1, 'external': 1, 'use': 1, 'advised': 1, 'doctor': 6, 'normally': 1, 'wash': 1, 'dry': 1, 'affected': 1, 'area': 1, 'applying': 1, 'thin': 1, 'layer': 1, 'applied': 1, 'broken': 1, 'damaged': 1, 'skin': 4, 'Avoid': 1, 'contact': 1, 'eyes': 1, 'nose': 1, 'mouth': 1, 'Rinse': 1, 'water': 1, 'accidentally': 1, 'areas': 1, 'weeks': 1, 'symptoms': 1, 'improve': 1, 'regularly': 1, 'stop': 2, 'soon': 1, 'starts': 1, 'better': 1, 'Ask': 1, 'treatment': 1, 'Common': 1, 'effects': 1, 'like': 1, 'minor': 1, 'itching': 1, 'burning': 1, 'redness': 1, 'oily': 1, 'seen': 1, 'people': 1, 'usually': 1, 'temporary': 1, 'resolve': 1, 'Consult': 2, 'bother': 1, 'away': 1, 'safe': 1, 'inform': 2, 'problems': 1, 'bowels': 1, 'intestines': 1, 'bloody': 1, 'diarrhea': 1, 'caused': 1, 'taking': 1, 'antibiotics': 1, 'medicines': 1, 'conditions': 1, 'pregnant': 1, 'breastfeeding': 1}\n"
     ]
    }
   ],
   "source": [
    "print(word_frequencies)"
   ]
  },
  {
   "cell_type": "code",
   "execution_count": 52,
   "metadata": {},
   "outputs": [],
   "source": [
    "### finding max frequncy of word..\n",
    "\n",
    "max_frequency = max(word_frequencies.values())"
   ]
  },
  {
   "cell_type": "code",
   "execution_count": 11,
   "metadata": {},
   "outputs": [
    {
     "data": {
      "text/plain": [
       "6"
      ]
     },
     "execution_count": 11,
     "metadata": {},
     "output_type": "execute_result"
    }
   ],
   "source": [
    "max_frequency"
   ]
  },
  {
   "cell_type": "code",
   "execution_count": 53,
   "metadata": {},
   "outputs": [],
   "source": [
    "### score for each word frequency against max word freqeuncy..\n",
    "\n",
    "for word in word_frequencies.keys():\n",
    "    word_frequencies[word] = word_frequencies[word]/max_frequency"
   ]
  },
  {
   "cell_type": "code",
   "execution_count": 13,
   "metadata": {},
   "outputs": [
    {
     "name": "stdout",
     "output_type": "stream",
     "text": [
      "{'Acnesol': 0.3333333333333333, 'Gel': 0.3333333333333333, 'antibiotic': 0.16666666666666666, 'fights': 0.16666666666666666, 'bacteria': 0.3333333333333333, 'treat': 0.3333333333333333, 'acne': 0.3333333333333333, 'appears': 0.16666666666666666, 'spots': 0.16666666666666666, 'pimples': 0.3333333333333333, 'face': 0.16666666666666666, 'chest': 0.16666666666666666, 'medicine': 0.8333333333333334, 'works': 0.16666666666666666, 'attacking': 0.16666666666666666, 'cause': 0.16666666666666666, 'meant': 0.16666666666666666, 'external': 0.16666666666666666, 'use': 0.16666666666666666, 'advised': 0.16666666666666666, 'doctor': 1.0, 'normally': 0.16666666666666666, 'wash': 0.16666666666666666, 'dry': 0.16666666666666666, 'affected': 0.16666666666666666, 'area': 0.16666666666666666, 'applying': 0.16666666666666666, 'thin': 0.16666666666666666, 'layer': 0.16666666666666666, 'applied': 0.16666666666666666, 'broken': 0.16666666666666666, 'damaged': 0.16666666666666666, 'skin': 0.6666666666666666, 'Avoid': 0.16666666666666666, 'contact': 0.16666666666666666, 'eyes': 0.16666666666666666, 'nose': 0.16666666666666666, 'mouth': 0.16666666666666666, 'Rinse': 0.16666666666666666, 'water': 0.16666666666666666, 'accidentally': 0.16666666666666666, 'areas': 0.16666666666666666, 'weeks': 0.16666666666666666, 'symptoms': 0.16666666666666666, 'improve': 0.16666666666666666, 'regularly': 0.16666666666666666, 'stop': 0.3333333333333333, 'soon': 0.16666666666666666, 'starts': 0.16666666666666666, 'better': 0.16666666666666666, 'Ask': 0.16666666666666666, 'treatment': 0.16666666666666666, 'Common': 0.16666666666666666, 'effects': 0.16666666666666666, 'like': 0.16666666666666666, 'minor': 0.16666666666666666, 'itching': 0.16666666666666666, 'burning': 0.16666666666666666, 'redness': 0.16666666666666666, 'oily': 0.16666666666666666, 'seen': 0.16666666666666666, 'people': 0.16666666666666666, 'usually': 0.16666666666666666, 'temporary': 0.16666666666666666, 'resolve': 0.16666666666666666, 'Consult': 0.3333333333333333, 'bother': 0.16666666666666666, 'away': 0.16666666666666666, 'safe': 0.16666666666666666, 'inform': 0.3333333333333333, 'problems': 0.16666666666666666, 'bowels': 0.16666666666666666, 'intestines': 0.16666666666666666, 'bloody': 0.16666666666666666, 'diarrhea': 0.16666666666666666, 'caused': 0.16666666666666666, 'taking': 0.16666666666666666, 'antibiotics': 0.16666666666666666, 'medicines': 0.16666666666666666, 'conditions': 0.16666666666666666, 'pregnant': 0.16666666666666666, 'breastfeeding': 0.16666666666666666}\n"
     ]
    }
   ],
   "source": [
    "print(word_frequencies)"
   ]
  },
  {
   "cell_type": "code",
   "execution_count": 55,
   "metadata": {},
   "outputs": [],
   "source": [
    "### token genration for sentneces..\n",
    "\n",
    "sentence_tokens = [sent for sent in doc.sents]"
   ]
  },
  {
   "cell_type": "code",
   "execution_count": 15,
   "metadata": {},
   "outputs": [
    {
     "name": "stdout",
     "output_type": "stream",
     "text": [
      "[Acnesol Gel is an antibiotic that fights bacteria., It is used to treat acne, which appears as spots or pimples on your face, chest or back., This medicine works by attacking the bacteria that cause these pimples., Acnesol Gel is only meant for external use and should be used as advised by your doctor., You should normally wash and dry the affected area before applying a thin layer of the medicine., It should not be applied to broken or damaged skin., Avoid any contact with your eyes, nose, or mouth., Rinse it off with water if you accidentally get it in these areas., It may take several weeks for your symptoms to improve, but you should keep using this medicine regularly., Do not stop using it as soon as your acne starts to get better., Ask your doctor when you should stop treatment., Common side effects like minor itching, burning, or redness of the skin and oily skin may be seen in some people., These are usually temporary and resolve on their own., Consult your doctor if they bother you or do not go away., It is a safe medicine, but you should inform your doctor if you have any problems with your bowels (intestines)., Also, inform the doctor if you have ever had bloody diarrhea caused by taking antibiotics or if you are using any other medicines to treat skin conditions., Consult your doctor about using this medicine if you are pregnant or breastfeeding.]\n"
     ]
    }
   ],
   "source": [
    "print(sentence_tokens)"
   ]
  },
  {
   "cell_type": "code",
   "execution_count": 56,
   "metadata": {},
   "outputs": [],
   "source": [
    "### score for each senentece frequency max word freqeuncy inside each sentence..\n",
    "\n",
    "sentence_scores = {}\n",
    "for sent in sentence_tokens:\n",
    "    for word in sent:\n",
    "        if word.text.lower() in word_frequencies.keys():\n",
    "            if sent not in sentence_scores.keys():\n",
    "                sentence_scores[sent] = word_frequencies[word.text.lower()]\n",
    "            else:\n",
    "                sentence_scores[sent] += word_frequencies[word.text.lower()]"
   ]
  },
  {
   "cell_type": "code",
   "execution_count": 32,
   "metadata": {},
   "outputs": [
    {
     "name": "stdout",
     "output_type": "stream",
     "text": [
      "{Acnesol Gel is an antibiotic that fights bacteria.: 0.6666666666666666, It is used to treat acne, which appears as spots or pimples on your face, chest or back.: 1.6666666666666667, This medicine works by attacking the bacteria that cause these pimples.: 2.0, Acnesol Gel is only meant for external use and should be used as advised by your doctor.: 1.6666666666666665, You should normally wash and dry the affected area before applying a thin layer of the medicine.: 2.1666666666666665, It should not be applied to broken or damaged skin.: 1.1666666666666665, Avoid any contact with your eyes, nose, or mouth.: 0.6666666666666666, Rinse it off with water if you accidentally get it in these areas.: 0.5, It may take several weeks for your symptoms to improve, but you should keep using this medicine regularly.: 1.5000000000000002, Do not stop using it as soon as your acne starts to get better.: 1.1666666666666665, Ask your doctor when you should stop treatment.: 1.5, Common side effects like minor itching, burning, or redness of the skin and oily skin may be seen in some people.: 2.833333333333333, These are usually temporary and resolve on their own.: 0.5, Consult your doctor if they bother you or do not go away.: 1.3333333333333335, It is a safe medicine, but you should inform your doctor if you have any problems with your bowels (intestines).: 2.8333333333333326, Also, inform the doctor if you have ever had bloody diarrhea caused by taking antibiotics or if you are using any other medicines to treat skin conditions.: 3.4999999999999996, Consult your doctor about using this medicine if you are pregnant or breastfeeding.: 2.1666666666666665}\n"
     ]
    }
   ],
   "source": [
    "print(sentence_scores)"
   ]
  },
  {
   "cell_type": "code",
   "execution_count": 33,
   "metadata": {},
   "outputs": [],
   "source": [
    "from heapq import nlargest"
   ]
  },
  {
   "cell_type": "code",
   "execution_count": 58,
   "metadata": {},
   "outputs": [
    {
     "data": {
      "text/plain": [
       "5"
      ]
     },
     "execution_count": 58,
     "metadata": {},
     "output_type": "execute_result"
    }
   ],
   "source": [
    "### finding length of abstacted summary(30% of text)..\n",
    "\n",
    "select_length = int(len(sentence_tokens)*0.3)\n",
    "select_length"
   ]
  },
  {
   "cell_type": "code",
   "execution_count": 38,
   "metadata": {},
   "outputs": [],
   "source": [
    "summary = nlargest(select_length, sentence_scores, key = sentence_scores.get)"
   ]
  },
  {
   "cell_type": "code",
   "execution_count": 39,
   "metadata": {},
   "outputs": [
    {
     "data": {
      "text/plain": [
       "[Also, inform the doctor if you have ever had bloody diarrhea caused by taking antibiotics or if you are using any other medicines to treat skin conditions.,\n",
       " Common side effects like minor itching, burning, or redness of the skin and oily skin may be seen in some people.,\n",
       " It is a safe medicine, but you should inform your doctor if you have any problems with your bowels (intestines).,\n",
       " You should normally wash and dry the affected area before applying a thin layer of the medicine.,\n",
       " Consult your doctor about using this medicine if you are pregnant or breastfeeding.]"
      ]
     },
     "execution_count": 39,
     "metadata": {},
     "output_type": "execute_result"
    }
   ],
   "source": [
    "summary"
   ]
  },
  {
   "cell_type": "code",
   "execution_count": 41,
   "metadata": {},
   "outputs": [],
   "source": [
    "final_summary =  [word.text for word in summary]"
   ]
  },
  {
   "cell_type": "code",
   "execution_count": 42,
   "metadata": {},
   "outputs": [],
   "source": [
    "summary = ' '.join(final_summary)"
   ]
  },
  {
   "cell_type": "code",
   "execution_count": 43,
   "metadata": {},
   "outputs": [
    {
     "name": "stdout",
     "output_type": "stream",
     "text": [
      "Acnesol Gel is an antibiotic that fights bacteria. It is used to treat acne, which appears as spots or pimples on your face, chest or back. This medicine works by attacking the bacteria that cause these pimples.Acnesol Gel is only meant for external use and should be used as advised by your doctor. You should normally wash and dry the affected area before applying a thin layer of the medicine. It should not be applied to broken or damaged skin. Avoid any contact with your eyes, nose, or mouth. Rinse it off with water if you accidentally get it in these areas. It may take several weeks for your symptoms to improve, but you should keep using this medicine regularly. Do not stop using it as soon as your acne starts to get better. Ask your doctor when you should stop treatment.Common side effects like minor itching, burning, or redness of the skin and oily skin may be seen in some people. These are usually temporary and resolve on their own. Consult your doctor if they bother you or do not go away.It is a safe medicine, but you should inform your doctor if you have any problems with your bowels (intestines). Also, inform the doctor if you have ever had bloody diarrhea caused by taking antibiotics or if you are using any other medicines to treat skin conditions. Consult your doctor about using this medicine if you are pregnant or breastfeeding.\n"
     ]
    }
   ],
   "source": [
    "print(text)"
   ]
  },
  {
   "cell_type": "code",
   "execution_count": 44,
   "metadata": {},
   "outputs": [
    {
     "name": "stdout",
     "output_type": "stream",
     "text": [
      "Also, inform the doctor if you have ever had bloody diarrhea caused by taking antibiotics or if you are using any other medicines to treat skin conditions. Common side effects like minor itching, burning, or redness of the skin and oily skin may be seen in some people. It is a safe medicine, but you should inform your doctor if you have any problems with your bowels (intestines). You should normally wash and dry the affected area before applying a thin layer of the medicine. Consult your doctor about using this medicine if you are pregnant or breastfeeding.\n"
     ]
    }
   ],
   "source": [
    "print(summary)"
   ]
  }
 ],
 "metadata": {
  "kernelspec": {
   "display_name": "Python 3",
   "language": "python",
   "name": "python3"
  },
  "language_info": {
   "codemirror_mode": {
    "name": "ipython",
    "version": 3
   },
   "file_extension": ".py",
   "mimetype": "text/x-python",
   "name": "python",
   "nbconvert_exporter": "python",
   "pygments_lexer": "ipython3",
   "version": "3.7.6"
  }
 },
 "nbformat": 4,
 "nbformat_minor": 4
}
